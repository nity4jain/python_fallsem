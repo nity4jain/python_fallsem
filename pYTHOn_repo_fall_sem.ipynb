{
  "nbformat": 4,
  "nbformat_minor": 0,
  "metadata": {
    "colab": {
      "provenance": [],
      "authorship_tag": "ABX9TyNRtwYfIZHnlcTJFTRc43y1",
      "include_colab_link": true
    },
    "kernelspec": {
      "name": "python3",
      "display_name": "Python 3"
    },
    "language_info": {
      "name": "python"
    }
  },
  "cells": [
    {
      "cell_type": "markdown",
      "metadata": {
        "id": "view-in-github",
        "colab_type": "text"
      },
      "source": [
        "<a href=\"https://colab.research.google.com/github/nity4jain/python_fallsem/blob/main/pYTHOn_repo_fall_sem.ipynb\" target=\"_parent\"><img src=\"https://colab.research.google.com/assets/colab-badge.svg\" alt=\"Open In Colab\"/></a>"
      ]
    },
    {
      "cell_type": "code",
      "source": [
        " #Python prog to check whether the written number is palindrome or not \n",
        "number = int(input(\"Enter any number \"))\n",
        "reverse = 0\n",
        "o = number\n",
        "\n",
        "while number>0:\n",
        "    d = number%10\n",
        "    reverse = reverse*10+d\n",
        "    number = number//10\n",
        "    \n",
        "if(o==reverse):\n",
        " print('number is palindrome')\n",
        "else:\n",
        " print('number is not palindrome')"
      ],
      "metadata": {
        "colab": {
          "base_uri": "https://localhost:8080/"
        },
        "id": "pYSP1jhMpTqZ",
        "outputId": "1aeab915-8e78-4062-fa37-2d2e0d6bab29"
      },
      "execution_count": null,
      "outputs": [
        {
          "output_type": "stream",
          "name": "stdout",
          "text": [
            "Enter any number 787\n",
            "number is palindrome\n"
          ]
        }
      ]
    },
    {
      "cell_type": "code",
      "source": [
        "#Python prog to find maximum number in a list\n",
        "def max_num_in_list( list ):\n",
        "    max = list[ 0 ]\n",
        "    for a in list:\n",
        "        if a > max:\n",
        "            max = a\n",
        "    return max\n",
        "print(max_num_in_list([4,10,-5,22]))"
      ],
      "metadata": {
        "colab": {
          "base_uri": "https://localhost:8080/"
        },
        "id": "I3RtkGg0H2oO",
        "outputId": "230b9610-f409-4542-bf70-6482d341a873"
      },
      "execution_count": null,
      "outputs": [
        {
          "output_type": "stream",
          "name": "stdout",
          "text": [
            "22\n"
          ]
        }
      ]
    },
    {
      "cell_type": "code",
      "source": [
        "#Python program to find the second largest number in a list\n",
        "list_val = [20, 30, 40, 25, 10]  \n",
        "list_val.sort()  \n",
        "print(\"The second largest element of the list is:\", list_val[-2])  \n"
      ],
      "metadata": {
        "colab": {
          "base_uri": "https://localhost:8080/"
        },
        "id": "FfGIfC4fJseD",
        "outputId": "ca29089e-72c0-46d0-cec4-95d91aa8b851"
      },
      "execution_count": null,
      "outputs": [
        {
          "output_type": "stream",
          "name": "stdout",
          "text": [
            "The second largest element of the list is: 30\n"
          ]
        }
      ]
    },
    {
      "cell_type": "code",
      "source": [
        "a =[]\n",
        "n = int(input('Enter number of elements'))\n",
        "for i in range(1,n+1):\n",
        "  b = int(input('Enter a element'))\n",
        "  a.append(b)\n",
        "even=[]\n",
        "odd=[]\n",
        "for j in a:\n",
        "  if(j%2==0):\n",
        "   even.append(j)\n",
        "  else:\n",
        "    odd.append(j)\n",
        "print(\"The even list\",even)\n",
        "print(\"The odd list\",odd)"
      ],
      "metadata": {
        "colab": {
          "base_uri": "https://localhost:8080/"
        },
        "id": "SOTkLrH1MHaA",
        "outputId": "fa7fa1c0-84a4-4121-9ed1-b26f52a87e83"
      },
      "execution_count": null,
      "outputs": [
        {
          "output_type": "stream",
          "name": "stdout",
          "text": [
            "Enter number of elements5\n",
            "Enter a element6\n",
            "Enter a element56\n",
            "Enter a element56\n",
            "Enter a element3\n",
            "Enter a element12\n",
            "The even list [6, 56, 56, 12]\n",
            "The odd list [3]\n"
          ]
        }
      ]
    },
    {
      "cell_type": "code",
      "source": [
        "#Python program to merge two lists and sort it\n",
        "a = []\n",
        "c = []\n",
        "n1= int(input('Enter number of elements: '))\n",
        "for i in range(1,n1+1):\n",
        "  b = int(input('Enter a element '))\n",
        "  a.append(b)\n",
        "n2 = int(input('Enter number of elements: '))\n",
        "for i in range(1,n2+1):\n",
        "    d = int(input('Enter a element '))\n",
        "    c.append(d)\n",
        "new = a + c\n",
        "new.sort()\n",
        "print('Sorted list is: ',new)\n"
      ],
      "metadata": {
        "colab": {
          "base_uri": "https://localhost:8080/"
        },
        "id": "YiWpxKL3jMkr",
        "outputId": "59986702-cab2-4162-a904-a71cdef99cba"
      },
      "execution_count": null,
      "outputs": [
        {
          "output_type": "stream",
          "name": "stdout",
          "text": [
            "Enter number of elements: 3\n",
            "Enter a element 56\n",
            "Enter a element 67\n",
            "Enter a element -21\n",
            "Enter number of elements: 4\n",
            "Enter a element 90\n",
            "Enter a element 100\n",
            "Enter a element 899\n",
            "Enter a element -3345\n",
            "Sorted list is:  [-3345, -21, 56, 67, 90, 100, 899]\n"
          ]
        }
      ]
    },
    {
      "cell_type": "code",
      "source": [
        "#Python program to sort the list according to the second element in sublist\n",
        "a = [['A',34],['B',21],['c',26]]\n",
        "for i in range(0,len(a)):\n",
        "  for j in range(0,len(a)-i-1):\n",
        "    if(a[j][1]>a[j+1][1]):\n",
        "      temp = a[j]\n",
        "      a[j]= a[j+1]\n",
        "      a[j+1]=temp\n",
        "\n",
        "print(a)"
      ],
      "metadata": {
        "colab": {
          "base_uri": "https://localhost:8080/"
        },
        "id": "4FZAj02PlQXO",
        "outputId": "1f06935b-44f6-4a5d-b854-10fa6c996b36"
      },
      "execution_count": null,
      "outputs": [
        {
          "output_type": "stream",
          "name": "stdout",
          "text": [
            "[['B', 21], ['c', 26], ['A', 34]]\n"
          ]
        }
      ]
    },
    {
      "cell_type": "code",
      "source": [
        "#Python prog to find the second largest number in a list using bubble sort\n",
        "a =[]\n",
        "n = int(input('Enter number of elements'))\n",
        "for i in range(1,n+1):\n",
        "  b = int(input('Enter a element'))\n",
        "  a.append(b)\n",
        "for i in range(0,len(a)):\n",
        "  for j in range(0,len(a)-i-1):\n",
        "    if(a[j]>a[j+1]):\n",
        "     temp = a[j]\n",
        "     a[j]= a[j+1]\n",
        "     a[j+1]=temp\n",
        "print('Second largest number is: ',a[n-2])\n",
        "     "
      ],
      "metadata": {
        "colab": {
          "base_uri": "https://localhost:8080/"
        },
        "id": "bhCzqLoomTro",
        "outputId": "61edd746-428e-4f43-b53d-9edbfa9b452d"
      },
      "execution_count": null,
      "outputs": [
        {
          "output_type": "stream",
          "name": "stdout",
          "text": [
            "Enter number of elements4\n",
            "Enter a element23\n",
            "Enter a element34\n",
            "Enter a element67\n",
            "Enter a element0\n",
            "Second largest number is:  34\n"
          ]
        }
      ]
    },
    {
      "cell_type": "code",
      "source": [
        "#Python prog to sort a list according to the length of the elements\n",
        "a =[]\n",
        "n = int(input('Enter number of elements:'))\n",
        "for i in range(1,n+1):\n",
        "  b = input(\"Enter elements\")\n",
        "  a.append(b)\n",
        "a.sort(key=len)\n",
        "print(a)"
      ],
      "metadata": {
        "id": "MyMESG2pNQq6",
        "colab": {
          "base_uri": "https://localhost:8080/"
        },
        "outputId": "6c062c52-6ae8-41df-d7ed-823f0c0863f9"
      },
      "execution_count": null,
      "outputs": [
        {
          "output_type": "stream",
          "name": "stdout",
          "text": [
            "Enter number of elements:4\n",
            "Enter elementsMy\n",
            "Enter elementsname \n",
            "Enter elementsis\n",
            "Enter elementsnitya\n",
            "['My', 'is', 'name ', 'nitya']\n"
          ]
        }
      ]
    },
    {
      "cell_type": "code",
      "source": [
        "#Python prog to find the union of two lists\n",
        "l1=[]\n",
        "num1=int(input('Enter size of list 1:'))\n",
        "for n in range(num1):\n",
        "  numbers1=int(input('Enter any number:'))\n",
        "  l1.append(numbers1)\n",
        "l2=[]\n",
        "num2=int(input('Input size of list 2'))\n",
        "for n in range(num2):\n",
        "  numbers2=int(input('Enter any number:'))\n",
        "  l2.append(numbers2)\n",
        "union = list(set().union(l1,l2))\n",
        "print('The Union of two lists is:',union)"
      ],
      "metadata": {
        "colab": {
          "base_uri": "https://localhost:8080/"
        },
        "id": "KYEVUYE8pTDJ",
        "outputId": "b5bf6ff8-49d6-486c-f9a6-b9188df56d47"
      },
      "execution_count": null,
      "outputs": [
        {
          "output_type": "stream",
          "name": "stdout",
          "text": [
            "Enter size of list 1:4\n",
            "Enter any number:20\n",
            "Enter any number:40\n",
            "Enter any number:30\n",
            "Enter any number:60\n",
            "Input size of list 24\n",
            "Enter any number:10\n",
            "Enter any number:20\n",
            "Enter any number:50\n",
            "Enter any number:40\n",
            "The Union of two lists is: [40, 10, 50, 20, 60, 30]\n"
          ]
        }
      ]
    },
    {
      "cell_type": "code",
      "source": [
        "#Python prog to find the intersection of two lists\n",
        "\n",
        "def intersection(a,b):\n",
        " return list(set(a)&set(b))\n",
        "\n",
        "def main():\n",
        "  alist=[]\n",
        "  blist=[]\n",
        "  n1=int(input('Enter number of elements for list1: '))\n",
        "  n2 = int(input('Enter numbber of elements for list2: '))\n",
        "  print(\"For List1: \")\n",
        "  for x in range(0,n1):\n",
        "   element=int(input(\"Enter elements\"+str(x+1)+\":\"))\n",
        "   alist.append(element)\n",
        "\n",
        "  print(\"For List2: \")\n",
        "  for x in range(0,n2):\n",
        "   element=int(input(\"Enter elements\"+str(x+1)+\":\"))\n",
        "   blist.append(element)\n",
        "  print(\"The intersection is:\")\n",
        "  print(intersection(alist,blist))\n",
        "main()"
      ],
      "metadata": {
        "colab": {
          "base_uri": "https://localhost:8080/"
        },
        "id": "L-LSE55nsvQc",
        "outputId": "8b2a5c29-f002-4c37-8812-460de78e75f2"
      },
      "execution_count": null,
      "outputs": [
        {
          "output_type": "stream",
          "name": "stdout",
          "text": [
            "Enter number of elements for list1: 2\n",
            "Enter numbber of elements for list2: 3\n",
            "For List1: \n",
            "Enter elements1:-12\n",
            "Enter elements2:23\n",
            "For List2: \n",
            "Enter elements1:90\n",
            "Enter elements2:23\n",
            "Enter elements3:-12\n",
            "The intersection is:\n",
            "[-12, 23]\n"
          ]
        }
      ]
    },
    {
      "cell_type": "code",
      "source": [
        "#Python prog to print all odd indexed elements of a list\n",
        "\n",
        "arr = []\n",
        "print(\"Enter 10 numbers: \")\n",
        "for i in range(10):\n",
        "  arr.insert(i,int(input()))\n",
        "\n",
        "print(\"\\nNumbers at Odd Positions: \")\n",
        "for i in range(10):\n",
        "  if i%2!=0:\n",
        "   print(arr[i])"
      ],
      "metadata": {
        "colab": {
          "base_uri": "https://localhost:8080/"
        },
        "id": "UfMz5BqwwJZc",
        "outputId": "dd47dfba-134a-441a-f00e-e698c842f02e"
      },
      "execution_count": null,
      "outputs": [
        {
          "output_type": "stream",
          "name": "stdout",
          "text": [
            "Enter 10 numbers: \n",
            "1\n",
            "2\n",
            "3\n",
            "4\n",
            "5\n",
            "6\n",
            "7\n",
            "8\n",
            "9\n",
            "10\n",
            "\n",
            "Numbers at Odd Positions: \n",
            "2\n",
            "4\n",
            "6\n",
            "8\n",
            "10\n"
          ]
        }
      ]
    },
    {
      "cell_type": "code",
      "source": [
        "#Python prog to find frequency of each digit in a given integer\n",
        "num = int(input('Enter any number'))\n",
        "print('Digit\\tFrequency')\n",
        "for i in range(0,10):\n",
        " c = 0;\n",
        " temp = num;\n",
        " while temp>0:\n",
        "  d = temp%10\n",
        "  if d ==i:\n",
        "    c+=1\n",
        "  temp = temp//10;\n",
        " if c>0:\n",
        "    print(i,\"\\t\",c)"
      ],
      "metadata": {
        "colab": {
          "base_uri": "https://localhost:8080/"
        },
        "id": "2F68IiXzpeiq",
        "outputId": "3c22026b-81dd-45b0-b90d-82b4c0ba40ae"
      },
      "execution_count": null,
      "outputs": [
        {
          "output_type": "stream",
          "name": "stdout",
          "text": [
            "Enter any number454674352654\n",
            "Digit\tFrequency\n",
            "2 \t 1\n",
            "3 \t 1\n",
            "4 \t 4\n",
            "5 \t 3\n",
            "6 \t 2\n",
            "7 \t 1\n"
          ]
        }
      ]
    },
    {
      "cell_type": "code",
      "execution_count": null,
      "metadata": {
        "id": "dPaBKdnl0Z3H"
      },
      "outputs": [],
      "source": [
        "print(\"hello world\")"
      ]
    },
    {
      "cell_type": "code",
      "source": [
        "#Python prog to find all factors of a number\n",
        "num=int(input('Enter a number'))\n",
        "for i in range(1,num+1):\n",
        " if (num%i==0):\n",
        "    print(i)"
      ],
      "metadata": {
        "colab": {
          "base_uri": "https://localhost:8080/"
        },
        "id": "Ng77q3XEqILF",
        "outputId": "94d50c3a-2297-4db5-9052-baa5f82d371a"
      },
      "execution_count": null,
      "outputs": [
        {
          "output_type": "stream",
          "name": "stdout",
          "text": [
            "Enter a number786\n",
            "1\n",
            "2\n",
            "3\n",
            "6\n",
            "131\n",
            "262\n",
            "393\n",
            "786\n"
          ]
        }
      ]
    },
    {
      "cell_type": "code",
      "source": [
        "#Python prog to print all prime  nos b/w 1-n\n",
        "n =int(input('Enter any number'))\n",
        "c=0\n",
        "for i in range(1,n+1):\n",
        "    if(n%i==0):\n",
        "        c+=1\n",
        "if c==2:\n",
        " print('number is prime')\n",
        "else:\n",
        " print('number is not prime')"
      ],
      "metadata": {
        "colab": {
          "base_uri": "https://localhost:8080/"
        },
        "id": "l7AQkCg7qiNB",
        "outputId": "10e00ef2-cb3f-455d-d6a9-23623945698a"
      },
      "execution_count": null,
      "outputs": [
        {
          "output_type": "stream",
          "name": "stdout",
          "text": [
            "Enter any number67\n",
            "number is prime\n"
          ]
        }
      ]
    },
    {
      "cell_type": "code",
      "source": [
        "#Python prog to print fibonacci\n",
        "n = int(input('How many terms?'))\n",
        "\n",
        "n1,n2=0,1\n",
        "count=0\n",
        "\n",
        "if n<=0:\n",
        "    print('Please enter a positive integer')\n",
        "elif n ==1:\n",
        "    print(n1)\n",
        "else:\n",
        "    print('Fibonacci sequence')\n",
        "    while(count<n):\n",
        "        print(n1)\n",
        "        nth = n1+n2\n",
        "        n1=n2\n",
        "        n2=nth\n",
        "        count+=1"
      ],
      "metadata": {
        "colab": {
          "base_uri": "https://localhost:8080/"
        },
        "id": "f-WKepQvqvbr",
        "outputId": "6122839a-4ddb-4790-caba-3a06b4084f31"
      },
      "execution_count": null,
      "outputs": [
        {
          "output_type": "stream",
          "name": "stdout",
          "text": [
            "How many terms?8\n",
            "Fibonacci sequence\n",
            "0\n",
            "1\n",
            "1\n",
            "2\n",
            "3\n",
            "5\n",
            "8\n",
            "13\n"
          ]
        }
      ]
    },
    {
      "cell_type": "code",
      "source": [
        "t = (\"w\",3,'r',\"e\",\"s\",\"o\",\"u\",\"r\",\"c\",\"e\")\n",
        "print(t)\n",
        "i = t[3]\n",
        "print(\"4th element from tuple: \",i)\n",
        "j=t[-4]\n",
        "print(\"4th element from the last of the tuple: \",j)"
      ],
      "metadata": {
        "colab": {
          "base_uri": "https://localhost:8080/"
        },
        "id": "xmUj0PhUn5XD",
        "outputId": "da41f048-9a2d-4629-9f8c-884ec6097c6c"
      },
      "execution_count": null,
      "outputs": [
        {
          "output_type": "stream",
          "name": "stdout",
          "text": [
            "('w', 3, 'r', 'e', 's', 'o', 'u', 'r', 'c', 'e')\n",
            "4th element from tuple:  e\n",
            "4th element from the last of the tuple:  u\n"
          ]
        }
      ]
    },
    {
      "cell_type": "code",
      "source": [
        "tuplex = 2,4,5,6,2,3,4,4,7\n",
        "print(tuplex)\n",
        "count= tuplex.count(4)\n",
        "print(count)"
      ],
      "metadata": {
        "colab": {
          "base_uri": "https://localhost:8080/"
        },
        "id": "h6qsrFfqo7k2",
        "outputId": "059b7d73-3eeb-4e4a-fcbd-d4744e9a622a"
      },
      "execution_count": null,
      "outputs": [
        {
          "output_type": "stream",
          "name": "stdout",
          "text": [
            "(2, 4, 5, 6, 2, 3, 4, 4, 7)\n",
            "3\n"
          ]
        }
      ]
    },
    {
      "cell_type": "code",
      "source": [
        "tuplex = (\"w\",3,'r',\"e\",\"s\",\"o\",\"u\",\"r\",\"c\",\"e\")\n",
        "print(\"r\" in tuplex)\n",
        "print(5 in tuplex)"
      ],
      "metadata": {
        "colab": {
          "base_uri": "https://localhost:8080/"
        },
        "id": "fyp3eDIApMOw",
        "outputId": "3cc01499-06c2-4514-d9b4-6f673bd34cf6"
      },
      "execution_count": null,
      "outputs": [
        {
          "output_type": "stream",
          "name": "stdout",
          "text": [
            "True\n",
            "False\n"
          ]
        }
      ]
    },
    {
      "cell_type": "code",
      "source": [
        "I = [(1,2),(3,4),(8,9)]\n",
        "print(list(zip(*I)))\n"
      ],
      "metadata": {
        "colab": {
          "base_uri": "https://localhost:8080/"
        },
        "id": "V5WRP3Enpg86",
        "outputId": "25fb6f47-5332-4e79-9a58-0dce0d628795"
      },
      "execution_count": null,
      "outputs": [
        {
          "output_type": "stream",
          "name": "stdout",
          "text": [
            "[(1, 3, 8), (2, 4, 9)]\n"
          ]
        }
      ]
    },
    {
      "cell_type": "code",
      "source": [
        "I = [(10,20,40),(40,50,60),(70,80,90)]\n",
        "print([t[:-1] + (100,)for t in I ])"
      ],
      "metadata": {
        "colab": {
          "base_uri": "https://localhost:8080/"
        },
        "id": "EG809Uygp18r",
        "outputId": "8ad1f65d-afd4-463f-afef-3e4243f44049"
      },
      "execution_count": null,
      "outputs": [
        {
          "output_type": "stream",
          "name": "stdout",
          "text": [
            "[(10, 20, 100), (40, 50, 100), (70, 80, 100)]\n"
          ]
        }
      ]
    },
    {
      "cell_type": "code",
      "source": [
        "L = [(),(),('a'),('a','b'),('a','b','c'),('d')]\n",
        "L = [t for t in L if t]\n",
        "print(L)"
      ],
      "metadata": {
        "colab": {
          "base_uri": "https://localhost:8080/"
        },
        "id": "M6jWmYH9qYiM",
        "outputId": "2edc8979-244c-4d4d-f83f-63f5f4a24419"
      },
      "execution_count": null,
      "outputs": [
        {
          "output_type": "stream",
          "name": "stdout",
          "text": [
            "['a', ('a', 'b'), ('a', 'b', 'c'), 'd']\n"
          ]
        }
      ]
    },
    {
      "cell_type": "code",
      "source": [
        "l = [(\"x\",1),(\"x\",2),(\"x\",3),(\"y\",1),(\"y\",2),(\"z\",1)]\n",
        "d = {}\n",
        "for a,b in l:\n",
        "  d.setdefault(a,[]).append(b)\n",
        "print(d)"
      ],
      "metadata": {
        "colab": {
          "base_uri": "https://localhost:8080/"
        },
        "id": "gmWX3I5crQrj",
        "outputId": "75602756-0349-4242-e25f-8f23f3518686"
      },
      "execution_count": null,
      "outputs": [
        {
          "output_type": "stream",
          "name": "stdout",
          "text": [
            "{'x': [1, 2, 3], 'y': [1, 2], 'z': [1]}\n"
          ]
        }
      ]
    },
    {
      "cell_type": "code",
      "source": [
        "from heapq import nlargest\n",
        "my_dict = {'a':500,'b':5874,'c':560,'d':400,'e':5874,'f':20}\n",
        "three_largest = nlargest(3,my_dict,key=my_dict.get)\n",
        "print(three_largest)"
      ],
      "metadata": {
        "colab": {
          "base_uri": "https://localhost:8080/"
        },
        "id": "Dt_Pg2_ir1h5",
        "outputId": "97cb4522-b87b-4902-e09e-5b6dabe4697b"
      },
      "execution_count": null,
      "outputs": [
        {
          "output_type": "stream",
          "name": "stdout",
          "text": [
            "['b', 'e', 'c']\n"
          ]
        }
      ]
    },
    {
      "cell_type": "code",
      "source": [
        "#Python function that prints out the first n rows of pascals triangle\n",
        "def pascal_triangle(n):\n",
        "   trow = [1]\n",
        "   y = [0]\n",
        "   for x in range(max(n,0)):\n",
        "      print(trow)\n",
        "      trow=[l+r for l,r in zip(trow+y, y+trow)]\n",
        "   return n>=1\n",
        "pascal_triangle(6) \n"
      ],
      "metadata": {
        "colab": {
          "base_uri": "https://localhost:8080/"
        },
        "id": "MjH6wnHDAKLU",
        "outputId": "1bf6f26a-8a5f-4801-c22c-6236dee359de"
      },
      "execution_count": null,
      "outputs": [
        {
          "output_type": "stream",
          "name": "stdout",
          "text": [
            "[1]\n",
            "[1, 1]\n",
            "[1, 2, 1]\n",
            "[1, 3, 3, 1]\n",
            "[1, 4, 6, 4, 1]\n",
            "[1, 5, 10, 10, 5, 1]\n"
          ]
        },
        {
          "output_type": "execute_result",
          "data": {
            "text/plain": [
              "True"
            ]
          },
          "metadata": {},
          "execution_count": 6
        }
      ]
    },
    {
      "cell_type": "code",
      "source": [
        "#Python list with square of values from 1-30\n",
        "def printValues():\n",
        "       l = list()\n",
        "       for i in range(1,21):\n",
        "          l.append(i**2)\n",
        "       print(l)\n",
        "\n",
        "printValues()       \n"
      ],
      "metadata": {
        "colab": {
          "base_uri": "https://localhost:8080/"
        },
        "id": "C_nAdlx3AQUg",
        "outputId": "246a4f73-8417-4d47-c91b-b0146066f05c"
      },
      "execution_count": null,
      "outputs": [
        {
          "output_type": "stream",
          "name": "stdout",
          "text": [
            "[1, 4, 9, 16, 25, 36, 49, 64, 81, 100, 121, 144, 169, 196, 225, 256, 289, 324, 361, 400]\n"
          ]
        }
      ]
    },
    {
      "cell_type": "code",
      "source": [
        "#Python program to detect the number of local variables in a function\n",
        "def abc():\n",
        "  x = 1\n",
        "  y = 2\n",
        "  str1 = \"w3resource\"\n",
        "  print(\"Python Excercises\")\n",
        "\n",
        "\n",
        "print(abc.__code__.co_nlocals)"
      ],
      "metadata": {
        "colab": {
          "base_uri": "https://localhost:8080/"
        },
        "id": "F7tg_TZoAtAM",
        "outputId": "ba2af26a-6489-4b62-a2e3-7e85f71dad65"
      },
      "execution_count": null,
      "outputs": [
        {
          "output_type": "stream",
          "name": "stdout",
          "text": [
            "3\n"
          ]
        }
      ]
    },
    {
      "cell_type": "code",
      "source": [
        "#Python program that invoke a function after specific milliseconds\n",
        "from time import sleep \n",
        "import math\n",
        "def delay(fn, ms, *args):\n",
        "  sleep(ms/1000)\n",
        "  return fn(*args)\n",
        "print(\"Square root after specifuc milliseconds: \")\n",
        "print(delay(lambda x: math.sqrt(x), 100,16))\n",
        "print(delay(lambda x: math.sqrt(x), 1000,100))\n",
        "print(delay(lambda x: math.sqrt(x), 2000,25100))"
      ],
      "metadata": {
        "colab": {
          "base_uri": "https://localhost:8080/"
        },
        "id": "dLQX8HKvBFOm",
        "outputId": "6d093539-f911-4407-b2d5-71255412e4c1"
      },
      "execution_count": null,
      "outputs": [
        {
          "output_type": "stream",
          "name": "stdout",
          "text": [
            "Square root after specifuc milliseconds: \n",
            "4.0\n",
            "10.0\n",
            "158.42979517754858\n"
          ]
        }
      ]
    },
    {
      "cell_type": "code",
      "source": [
        "#Python program to get the sum of non-negative integer\n",
        "def sumDigits(n):\n",
        "  if n ==0:\n",
        "    return 0\n",
        "  else:\n",
        "    return n%10 + sumDigits(int(n/10))\n",
        "\n",
        "print(sumDigits(345))\n",
        "print(sumDigits(45))\n"
      ],
      "metadata": {
        "colab": {
          "base_uri": "https://localhost:8080/"
        },
        "id": "-vSjwrBNBqVq",
        "outputId": "fe211935-436e-45e8-bfcc-6fc8c6c7b789"
      },
      "execution_count": null,
      "outputs": [
        {
          "output_type": "stream",
          "name": "stdout",
          "text": [
            "12\n",
            "9\n"
          ]
        }
      ]
    },
    {
      "cell_type": "code",
      "source": [
        "n = int(input(\"Enter a number \"))\n",
        "if(n>=20 and n<=40):\n",
        " print(\"GOOD MORNING\")\n",
        "elif(n>=41 and n<=60):\n",
        " print(\"GOOD AFTERNOON\")\n",
        "elif(n>=61 and n<=80):\n",
        " print(\"GOOD EVENING\")\n",
        "else:\n",
        " print(\"ALL ARE GOOD\")"
      ],
      "metadata": {
        "colab": {
          "base_uri": "https://localhost:8080/"
        },
        "id": "pVnM3ZU9XNrN",
        "outputId": "96422389-e9a5-4991-b1eb-e1ec51d07ff6"
      },
      "execution_count": null,
      "outputs": [
        {
          "output_type": "stream",
          "name": "stdout",
          "text": [
            "Enter a number 199\n",
            "ALL ARE GOOD\n"
          ]
        }
      ]
    },
    {
      "cell_type": "code",
      "source": [
        "n = int(input(\"Enter a number\"))\n",
        "fact=1\n",
        "i=1\n",
        "while(i<=n):\n",
        "  fact = fact*i\n",
        "  i=i+1\n",
        "print(\"Factorial of \",n,\" is \",fact)"
      ],
      "metadata": {
        "colab": {
          "base_uri": "https://localhost:8080/"
        },
        "id": "gBiuM63fblRY",
        "outputId": "f395bb94-a6da-41f9-e5b7-69bd7f28f1b1"
      },
      "execution_count": null,
      "outputs": [
        {
          "output_type": "stream",
          "name": "stdout",
          "text": [
            "Enter a number6\n",
            "Factorial of  6  is  720\n"
          ]
        }
      ]
    },
    {
      "cell_type": "code",
      "source": [
        "rows = 5\n",
        "for i in range(1,rows+1):\n",
        "  for j in range(1,i+1):\n",
        "    print(1,end=\"\")\n",
        "  print()"
      ],
      "metadata": {
        "colab": {
          "base_uri": "https://localhost:8080/"
        },
        "id": "18t0WmfFdhiO",
        "outputId": "b0f59e7e-baa0-439b-ce60-2e22de91d23b"
      },
      "execution_count": null,
      "outputs": [
        {
          "output_type": "stream",
          "name": "stdout",
          "text": [
            "1\n",
            "11\n",
            "111\n",
            "1111\n",
            "11111\n"
          ]
        }
      ]
    },
    {
      "cell_type": "code",
      "source": [
        "rows = 5\n",
        "for i in range(1,rows+1):\n",
        " for j in range(rows,0):\n",
        "  print(1,end=\"\")\n",
        "print()"
      ],
      "metadata": {
        "colab": {
          "base_uri": "https://localhost:8080/"
        },
        "id": "D27u8Lf7ySxw",
        "outputId": "e6968491-2e9a-4cb0-bbba-2018f89ba958"
      },
      "execution_count": null,
      "outputs": [
        {
          "output_type": "stream",
          "name": "stdout",
          "text": [
            "\n"
          ]
        }
      ]
    },
    {
      "cell_type": "code",
      "source": [
        "rows = 5\n",
        "for i in range(1,rows+1):\n",
        " for j in range(1,rows-i+2):\n",
        "   print(1,end=\"\")\n",
        " print()"
      ],
      "metadata": {
        "id": "b1JKUNgT9wXV",
        "colab": {
          "base_uri": "https://localhost:8080/"
        },
        "outputId": "f20e40be-086a-4838-a1e7-61bacbf42bfd"
      },
      "execution_count": null,
      "outputs": [
        {
          "output_type": "stream",
          "name": "stdout",
          "text": [
            "11111\n",
            "1111\n",
            "111\n",
            "11\n",
            "1\n"
          ]
        }
      ]
    },
    {
      "cell_type": "code",
      "source": [
        "import re\n",
        "pattern = '^a...s$'\n",
        "test_string = \"abyss\"\n",
        "result = re.match(pattern,test_string)\n",
        "if result:\n",
        "  print(\"Search successful\")\n",
        "else:\n",
        "  print(\"Search unsuccessful.\")"
      ],
      "metadata": {
        "colab": {
          "base_uri": "https://localhost:8080/"
        },
        "id": "FIZzMMtaAqfh",
        "outputId": "e2753657-f633-4714-cde2-bda0123090b8"
      },
      "execution_count": null,
      "outputs": [
        {
          "output_type": "stream",
          "name": "stdout",
          "text": [
            "Search successful\n"
          ]
        }
      ]
    },
    {
      "cell_type": "code",
      "source": [
        "m = int(input(\"Enter a month \"))\n",
        "if (m>=3 and m<=5):\n",
        "  print(\"Season: Spring \")\n",
        "elif(m>=6 and m<=8):\n",
        "  print(\"Season: summer\")\n",
        "elif(m>=9 and m<=11):\n",
        "  print(\"Season: Autumn\")\n",
        "elif(m>=12 and m<=2):\n",
        "  print(\"Season: Winter\")\n",
        "else:\n",
        "  print(\"Invalid Month\")"
      ],
      "metadata": {
        "colab": {
          "base_uri": "https://localhost:8080/"
        },
        "id": "jqWyua4rGt13",
        "outputId": "b8cd6155-001c-48de-cc9d-4b17fd98970a"
      },
      "execution_count": null,
      "outputs": [
        {
          "output_type": "stream",
          "name": "stdout",
          "text": [
            "Enter a month 11\n",
            "Season: Autumn\n"
          ]
        }
      ]
    },
    {
      "cell_type": "code",
      "source": [
        "n = int(input(\"Enter the number of tickets : \"))\n",
        "r = input(\"Do you want refreshments? \")\n",
        "cc = input(\"Do you have a coupon code? \")\n",
        "c = input(\"Enter the circle: \")\n",
        "\n",
        "if(n>=5 and n<=40):\n",
        "  if(n>=20 and c=='k'):\n",
        "    d = 0.1*75*n\n",
        "    cost = (75*n)-d\n",
        "  elif(n>=20 and c=='q'):\n",
        "    d = 0.1*150*n\n",
        "    cost = (150*n)-d\n",
        "  if(cc=='y'):\n",
        "    d = 0.02*n*cost\n",
        "    cost = cost - d\n",
        "\n",
        "  if(r=='y'):\n",
        "    cost = cost+50*n\n",
        "\n",
        "\n",
        "else:\n",
        "  print(\"Minimum of 5 and maximum of 40 Tickets\")\n",
        "\n",
        "print(\"Ticket Cost: \",cost)\n",
        "\n",
        "\n",
        "\n"
      ],
      "metadata": {
        "colab": {
          "base_uri": "https://localhost:8080/"
        },
        "id": "vXO_U8RTIYDq",
        "outputId": "aa8a325e-4ac8-43bd-b384-daec56e934fe"
      },
      "execution_count": null,
      "outputs": [
        {
          "output_type": "stream",
          "name": "stdout",
          "text": [
            "Enter the number of tickets : 35\n",
            "Do you want refreshments? y\n",
            "Do you have a coupon code? y\n",
            "Enter the circle: k\n",
            "Ticket Cost:  2458.75\n"
          ]
        }
      ]
    },
    {
      "cell_type": "code",
      "source": [
        "n = int(input(\"Number of rows \"))\n",
        "alpha = 65\n",
        "for i in range(1,n+1):\n",
        "  for j in range(1,i+1):\n",
        "    print(chr(alpha),end=\"\")\n",
        "    alpha = alpha+1\n",
        "  print()\n",
        "\n"
      ],
      "metadata": {
        "colab": {
          "base_uri": "https://localhost:8080/"
        },
        "id": "L36FSGC0NJ68",
        "outputId": "154506f1-f08e-4c09-927a-56c9103a8b7b"
      },
      "execution_count": null,
      "outputs": [
        {
          "output_type": "stream",
          "name": "stdout",
          "text": [
            "Number of rows 5\n",
            "A\n",
            "BC\n",
            "DEF\n",
            "GHIJ\n",
            "KLMNO\n"
          ]
        }
      ]
    },
    {
      "cell_type": "code",
      "source": [
        "n = int(input(\"First Number \"))\n",
        "m = int(input(\"Second Number \"))\n",
        "carry = 0\n",
        "sum = 0\n",
        "soc =0\n",
        "while(m>=0):\n",
        "  while(n>=0):\n",
        "   d1 = m%10\n",
        "   d2 = n%10\n",
        "   sum = d1+d2+soc\n",
        "   carry = sum//10\n",
        "   m = m//10\n",
        "   n = n//10\n",
        "   soc = soc + carry\n",
        "\n",
        "print(soc)\n",
        "\n"
      ],
      "metadata": {
        "id": "zFOmJ2gPOzSo"
      },
      "execution_count": null,
      "outputs": []
    },
    {
      "cell_type": "code",
      "source": [
        "15>>3"
      ],
      "metadata": {
        "colab": {
          "base_uri": "https://localhost:8080/"
        },
        "id": "piNTD1XVmIE2",
        "outputId": "bd1a83cd-c34f-4466-fe6f-bf2a67cdf85e"
      },
      "execution_count": null,
      "outputs": [
        {
          "output_type": "execute_result",
          "data": {
            "text/plain": [
              "1"
            ]
          },
          "metadata": {},
          "execution_count": 2
        }
      ]
    },
    {
      "cell_type": "code",
      "source": [
        "~18"
      ],
      "metadata": {
        "colab": {
          "base_uri": "https://localhost:8080/"
        },
        "id": "f1YhsDQEmbA6",
        "outputId": "a8bc36f8-7274-4e5e-a93c-9b7fae19d000"
      },
      "execution_count": null,
      "outputs": [
        {
          "output_type": "execute_result",
          "data": {
            "text/plain": [
              "-19"
            ]
          },
          "metadata": {},
          "execution_count": 1
        }
      ]
    },
    {
      "cell_type": "code",
      "source": [
        "~8"
      ],
      "metadata": {
        "colab": {
          "base_uri": "https://localhost:8080/"
        },
        "id": "FOrvnWSKXwdo",
        "outputId": "e88e547b-5402-4637-d13d-c95509c63547"
      },
      "execution_count": null,
      "outputs": [
        {
          "output_type": "execute_result",
          "data": {
            "text/plain": [
              "-9"
            ]
          },
          "metadata": {},
          "execution_count": 2
        }
      ]
    },
    {
      "cell_type": "code",
      "source": [
        "~21\n"
      ],
      "metadata": {
        "colab": {
          "base_uri": "https://localhost:8080/"
        },
        "id": "WE8dGIYTYESE",
        "outputId": "813ce8c6-7f66-42d7-bf2c-83081b68d141"
      },
      "execution_count": null,
      "outputs": [
        {
          "output_type": "execute_result",
          "data": {
            "text/plain": [
              "-22"
            ]
          },
          "metadata": {},
          "execution_count": 3
        }
      ]
    },
    {
      "cell_type": "code",
      "source": [
        "25^34"
      ],
      "metadata": {
        "colab": {
          "base_uri": "https://localhost:8080/"
        },
        "id": "BgwVpVuEmlhz",
        "outputId": "ca337c5c-c175-437c-c1da-cd67982f76f0"
      },
      "execution_count": null,
      "outputs": [
        {
          "output_type": "execute_result",
          "data": {
            "text/plain": [
              "59"
            ]
          },
          "metadata": {},
          "execution_count": 5
        }
      ]
    },
    {
      "cell_type": "code",
      "source": [
        "9&&4\n"
      ],
      "metadata": {
        "colab": {
          "base_uri": "https://localhost:8080/",
          "height": 130
        },
        "id": "SG4cufZwmtRN",
        "outputId": "ffa3fcd8-7e34-4d0c-af12-a6aee1452a16"
      },
      "execution_count": null,
      "outputs": [
        {
          "output_type": "error",
          "ename": "SyntaxError",
          "evalue": "ignored",
          "traceback": [
            "\u001b[0;36m  File \u001b[0;32m\"<ipython-input-8-28de667871af>\"\u001b[0;36m, line \u001b[0;32m1\u001b[0m\n\u001b[0;31m    9&&4\u001b[0m\n\u001b[0m      ^\u001b[0m\n\u001b[0;31mSyntaxError\u001b[0m\u001b[0;31m:\u001b[0m invalid syntax\n"
          ]
        }
      ]
    },
    {
      "cell_type": "code",
      "source": [
        "4|5"
      ],
      "metadata": {
        "colab": {
          "base_uri": "https://localhost:8080/"
        },
        "id": "48FElbMwm-sl",
        "outputId": "0a4bf65d-8de0-4c87-af35-c7e6c812345f"
      },
      "execution_count": null,
      "outputs": [
        {
          "output_type": "execute_result",
          "data": {
            "text/plain": [
              "5"
            ]
          },
          "metadata": {},
          "execution_count": 9
        }
      ]
    },
    {
      "cell_type": "code",
      "source": [
        "print (a)"
      ],
      "metadata": {
        "colab": {
          "base_uri": "https://localhost:8080/",
          "height": 165
        },
        "id": "a93HJ3b0nCoo",
        "outputId": "45b7f31d-a9c0-4a56-b8d8-a75edabacda4"
      },
      "execution_count": null,
      "outputs": [
        {
          "output_type": "error",
          "ename": "NameError",
          "evalue": "ignored",
          "traceback": [
            "\u001b[0;31m---------------------------------------------------------------------------\u001b[0m",
            "\u001b[0;31mNameError\u001b[0m                                 Traceback (most recent call last)",
            "\u001b[0;32m<ipython-input-4-cb9bacd097d9>\u001b[0m in \u001b[0;36m<module>\u001b[0;34m\u001b[0m\n\u001b[0;32m----> 1\u001b[0;31m \u001b[0mprint\u001b[0m \u001b[0;34m(\u001b[0m\u001b[0ma\u001b[0m\u001b[0;34m)\u001b[0m\u001b[0;34m\u001b[0m\u001b[0;34m\u001b[0m\u001b[0m\n\u001b[0m",
            "\u001b[0;31mNameError\u001b[0m: name 'a' is not defined"
          ]
        }
      ]
    },
    {
      "cell_type": "code",
      "source": [
        "24^44"
      ],
      "metadata": {
        "colab": {
          "base_uri": "https://localhost:8080/"
        },
        "id": "dSdl_nWzZ-7E",
        "outputId": "4ec02b9b-1e80-45a3-8b31-75c5712e791a"
      },
      "execution_count": null,
      "outputs": [
        {
          "output_type": "execute_result",
          "data": {
            "text/plain": [
              "52"
            ]
          },
          "metadata": {},
          "execution_count": 5
        }
      ]
    },
    {
      "cell_type": "code",
      "source": [
        "5|7"
      ],
      "metadata": {
        "colab": {
          "base_uri": "https://localhost:8080/"
        },
        "id": "a34oGj2wakhp",
        "outputId": "15e624f9-7809-4a94-d2fe-4e4b025c51c4"
      },
      "execution_count": null,
      "outputs": [
        {
          "output_type": "execute_result",
          "data": {
            "text/plain": [
              "7"
            ]
          },
          "metadata": {},
          "execution_count": 6
        }
      ]
    },
    {
      "cell_type": "code",
      "source": [
        "a,b,c=4,5,6"
      ],
      "metadata": {
        "id": "gJg5KuuEnUWz"
      },
      "execution_count": null,
      "outputs": []
    },
    {
      "cell_type": "code",
      "source": [
        "x =10\n",
        "print(type(x))"
      ],
      "metadata": {
        "colab": {
          "base_uri": "https://localhost:8080/"
        },
        "id": "oUHyYrclnZ1x",
        "outputId": "700ef8b3-fbc2-4593-8e5f-5837acb4b594"
      },
      "execution_count": null,
      "outputs": [
        {
          "output_type": "stream",
          "name": "stdout",
          "text": [
            "<class 'int'>\n"
          ]
        }
      ]
    },
    {
      "cell_type": "code",
      "source": [
        "2.0/3"
      ],
      "metadata": {
        "colab": {
          "base_uri": "https://localhost:8080/"
        },
        "id": "pYngmTIFnfP7",
        "outputId": "a2bf5a16-0ddd-4c6f-c5ad-c5e699c83d8e"
      },
      "execution_count": null,
      "outputs": [
        {
          "output_type": "execute_result",
          "data": {
            "text/plain": [
              "0.6666666666666666"
            ]
          },
          "metadata": {},
          "execution_count": 13
        }
      ]
    },
    {
      "cell_type": "code",
      "source": [
        "2.0//10"
      ],
      "metadata": {
        "id": "YM69My7knjMY",
        "outputId": "f8b1ea53-8d02-4f1e-c5db-3a5b7dce6148",
        "colab": {
          "base_uri": "https://localhost:8080/"
        }
      },
      "execution_count": null,
      "outputs": [
        {
          "output_type": "execute_result",
          "data": {
            "text/plain": [
              "0.0"
            ]
          },
          "metadata": {},
          "execution_count": 14
        }
      ]
    },
    {
      "cell_type": "code",
      "source": [
        "digits =[0,1,5]\n",
        "\n",
        "for i in digits:\n",
        "  print(i)\n",
        "print(\"No items left\")"
      ],
      "metadata": {
        "colab": {
          "base_uri": "https://localhost:8080/"
        },
        "id": "8IshylAbcqw1",
        "outputId": "4f9af475-8966-409f-c185-0049d601ce85"
      },
      "execution_count": null,
      "outputs": [
        {
          "output_type": "stream",
          "name": "stdout",
          "text": [
            "0\n",
            "1\n",
            "5\n",
            "No items left\n"
          ]
        }
      ]
    },
    {
      "cell_type": "code",
      "source": [
        "for val in \"string\":\n",
        "  if val ==\"i\":\n",
        "    pass\n",
        "  print(val)\n",
        "\n",
        "print(\"The end\")"
      ],
      "metadata": {
        "colab": {
          "base_uri": "https://localhost:8080/"
        },
        "id": "-VDRCVYpeuYw",
        "outputId": "40706b7d-4147-44b2-fa88-4025f7d3bf7a"
      },
      "execution_count": null,
      "outputs": [
        {
          "output_type": "stream",
          "name": "stdout",
          "text": [
            "s\n",
            "t\n",
            "r\n",
            "i\n",
            "n\n",
            "g\n",
            "The end\n"
          ]
        }
      ]
    },
    {
      "cell_type": "code",
      "source": [
        "import re\n",
        "pattern=\"^a...s$\"\n",
        "s = \"abyss\"\n",
        "result = re.match(s,pattern)\n",
        "\n",
        "if result:\n",
        "  print(\"successful\")\n"
      ],
      "metadata": {
        "id": "5XQwdzFJfhra"
      },
      "execution_count": null,
      "outputs": []
    },
    {
      "cell_type": "code",
      "source": [
        "rows = 4\n",
        "for i in range(0,rows+1):\n",
        "  for j in range(0,i):\n",
        "    print(\"*\",end=\"\")\n",
        "  print()"
      ],
      "metadata": {
        "colab": {
          "base_uri": "https://localhost:8080/"
        },
        "id": "5gXO-sbvf85e",
        "outputId": "333e0247-1d46-4841-f09f-d1828dfdbeb4"
      },
      "execution_count": null,
      "outputs": [
        {
          "output_type": "stream",
          "name": "stdout",
          "text": [
            "\n",
            "*\n",
            "**\n",
            "***\n",
            "****\n"
          ]
        }
      ]
    },
    {
      "cell_type": "code",
      "source": [
        "rows = 4\n",
        "x =1\n",
        "for i in range(0,rows+1):\n",
        "  for j in range(0,i):\n",
        "    print(x,end=\"\")\n",
        "    x = x+1\n",
        "  print()"
      ],
      "metadata": {
        "colab": {
          "base_uri": "https://localhost:8080/"
        },
        "id": "3j8_HX28iBnr",
        "outputId": "3119977a-6569-474b-c896-09473109018a"
      },
      "execution_count": null,
      "outputs": [
        {
          "output_type": "stream",
          "name": "stdout",
          "text": [
            "\n",
            "1\n",
            "23\n",
            "456\n",
            "78910\n"
          ]
        }
      ]
    },
    {
      "cell_type": "code",
      "source": [
        "rows = 4\n",
        "for i in range(0,rows+1):\n",
        "  for j in range(0,i):\n",
        "    print(i,end=\"\")\n",
        "  print()"
      ],
      "metadata": {
        "colab": {
          "base_uri": "https://localhost:8080/"
        },
        "id": "Kx2c1nC1i1BK",
        "outputId": "3c1696d2-f1e1-4c93-ac89-c4a81d98150e"
      },
      "execution_count": null,
      "outputs": [
        {
          "output_type": "stream",
          "name": "stdout",
          "text": [
            "\n",
            "1\n",
            "22\n",
            "333\n",
            "4444\n"
          ]
        }
      ]
    },
    {
      "cell_type": "code",
      "source": [
        "n = int(input(\"Enter number of rows \"))\n",
        "for i in range(0,n+1):\n",
        "  for j in range(0,i):\n",
        "    print(i,end=\"\")\n",
        "  print()\n"
      ],
      "metadata": {
        "colab": {
          "base_uri": "https://localhost:8080/"
        },
        "id": "v5ND2_HOig6h",
        "outputId": "6f3a844a-f3fb-4a11-e33d-a90342cee917"
      },
      "execution_count": null,
      "outputs": [
        {
          "output_type": "stream",
          "name": "stdout",
          "text": [
            "Enter number of rows 8\n",
            "\n",
            "1\n",
            "22\n",
            "333\n",
            "4444\n",
            "55555\n",
            "666666\n",
            "7777777\n",
            "88888888\n"
          ]
        }
      ]
    },
    {
      "cell_type": "code",
      "source": [
        "rows = 5\n",
        "for i in range(1,rows):\n",
        "  for j in range(1,rows-i): \n",
        "   print(\"*\",end=\" \")\n",
        "  print()"
      ],
      "metadata": {
        "colab": {
          "base_uri": "https://localhost:8080/"
        },
        "id": "Yr59Uxyvjhol",
        "outputId": "99a35ab5-a3e1-46fe-b3d9-6a9d550d7e05"
      },
      "execution_count": null,
      "outputs": [
        {
          "output_type": "stream",
          "name": "stdout",
          "text": [
            "* * * \n",
            "* * \n",
            "* \n",
            "\n"
          ]
        }
      ]
    },
    {
      "cell_type": "code",
      "source": [
        "n = int(input(\"Enter a number\"))\n",
        "for i in range(1,n+1):\n",
        "  for j in range(1,n+1):\n",
        "    print(\"*\",end=\"\")\n",
        "  print()"
      ],
      "metadata": {
        "colab": {
          "base_uri": "https://localhost:8080/"
        },
        "id": "4EPDUvMBz0JT",
        "outputId": "f50c34f0-a568-43c8-88b4-0b6d86465dac"
      },
      "execution_count": null,
      "outputs": [
        {
          "output_type": "stream",
          "name": "stdout",
          "text": [
            "Enter a number6\n",
            "******\n",
            "******\n",
            "******\n",
            "******\n",
            "******\n",
            "******\n"
          ]
        }
      ]
    },
    {
      "cell_type": "code",
      "source": [
        "n = int(input(\"Enter a number\"))\n",
        "for i in range(n):\n",
        " for j in range(n):\n",
        "   if i==0 or i==n-1 or j==0 or j == n -1:\n",
        "    print(\"*\",end = \" \")\n",
        "   else:\n",
        "    print(\" \",end=\" \")\n",
        " print()"
      ],
      "metadata": {
        "colab": {
          "base_uri": "https://localhost:8080/"
        },
        "id": "9jfel0ZJ0Yht",
        "outputId": "7cfa090d-69f2-4c7d-a240-32cdf4a19b1d"
      },
      "execution_count": null,
      "outputs": [
        {
          "output_type": "stream",
          "name": "stdout",
          "text": [
            "Enter a number5\n",
            "* * * * * \n",
            "*       * \n",
            "*       * \n",
            "*       * \n",
            "* * * * * \n"
          ]
        }
      ]
    },
    {
      "cell_type": "code",
      "source": [
        "n = int(input(\"Enter number of rows \"))\n",
        "for i in range(n):\n",
        " for k in range(1,n-i):\n",
        "  print(\" \",end=\"\")\n",
        " for j in range(0,i+1):\n",
        "  print(\"*\",end=\"\")\n",
        " print()"
      ],
      "metadata": {
        "colab": {
          "base_uri": "https://localhost:8080/"
        },
        "id": "wUe7y3aX23Zd",
        "outputId": "28eb3e8b-352d-4f68-d488-be0a6fe81a24"
      },
      "execution_count": null,
      "outputs": [
        {
          "output_type": "stream",
          "name": "stdout",
          "text": [
            "Enter number of rows 5\n",
            "    *\n",
            "   **\n",
            "  ***\n",
            " ****\n",
            "*****\n"
          ]
        }
      ]
    },
    {
      "cell_type": "code",
      "source": [
        "n = int(input(\"Enter the number of rows \"))\n",
        "for i in range(0,n+1):\n",
        "  for j in range(0,i):\n",
        "    print(\" \",end =\"\")\n",
        "  for k in range(1,n-i):\n",
        "    print(\"*\",end=\"\" )\n",
        "  print()"
      ],
      "metadata": {
        "colab": {
          "base_uri": "https://localhost:8080/"
        },
        "id": "vKxwabLi39-D",
        "outputId": "712b48d7-b74b-4ea8-de3c-34059e05e4a2"
      },
      "execution_count": null,
      "outputs": [
        {
          "output_type": "stream",
          "name": "stdout",
          "text": [
            "Enter the number of rows 5\n",
            "****\n",
            " ***\n",
            "  **\n",
            "   *\n",
            "    \n",
            "     \n"
          ]
        }
      ]
    },
    {
      "cell_type": "code",
      "source": [
        "n = int(input(\"Enter a number\"))\n",
        "for i in range(1,n+1):\n",
        "  for j in range(n-i):\n",
        "    print(\" \",end=\"\")\n",
        "  for k in range(2*i-1):\n",
        "    print(\"*\",end=\"\")\n",
        "  print()"
      ],
      "metadata": {
        "colab": {
          "base_uri": "https://localhost:8080/"
        },
        "id": "EIbxwYrS57jJ",
        "outputId": "00e5d97c-88f1-40c2-ce16-9aef9d37decf"
      },
      "execution_count": null,
      "outputs": [
        {
          "output_type": "stream",
          "name": "stdout",
          "text": [
            "Enter a number5\n",
            "    *\n",
            "   ***\n",
            "  *****\n",
            " *******\n",
            "*********\n"
          ]
        }
      ]
    },
    {
      "cell_type": "code",
      "source": [
        "x1 = int(input(\"Enter the x coordinate of the top left corner of the rectangle\"))\n",
        "y1 = int(input(\"Enter the y coordinate of the top left corner of the rectangle\"))\n",
        "w = int(input(\"Enter the width \"))\n",
        "h = int(input(\"Enter the height \"))\n",
        "xp = int(input(\"Enter the x coordiante you need to find\"))\n",
        "yp = int(input(\"Enter the y coordinate you need to find\"))\n",
        "if(xp>x1 and xp<(x1+w) and yp>y1 and yp<(y1+h)):\n",
        " print(\"Point lies inside the rectangle \")\n",
        "else:\n",
        " print(\"Point lies outside the rectangle\")\n"
      ],
      "metadata": {
        "colab": {
          "base_uri": "https://localhost:8080/"
        },
        "id": "lwCZQpEeAOEW",
        "outputId": "e4bb9e16-ebe3-4153-d481-9ed5859c2abb"
      },
      "execution_count": null,
      "outputs": [
        {
          "output_type": "stream",
          "name": "stdout",
          "text": [
            "Enter the x coordinate of the top left corner of the rectangle40\n",
            "Enter the y coordinate of the top left corner of the rectangle20\n",
            "Enter the width 60\n",
            "Enter the height 40\n",
            "Enter the x coordiante you need to find120\n",
            "Enter the y coordinate you need to find50\n",
            "Point lies outside the rectangle\n"
          ]
        }
      ]
    },
    {
      "cell_type": "code",
      "source": [
        "sum = 0\n",
        "for i in range(200):\n",
        " multiple = 3*i\n",
        " if (multiple<=500):\n",
        "  sum = sum+multiple\n",
        "print(\"Sum of 3's multiples less than 500\",sum)\n"
      ],
      "metadata": {
        "colab": {
          "base_uri": "https://localhost:8080/"
        },
        "id": "dpuLsoizqNyB",
        "outputId": "531539c7-be4c-4aa0-cfe6-03103d811d22"
      },
      "execution_count": null,
      "outputs": [
        {
          "output_type": "stream",
          "name": "stdout",
          "text": [
            "Sum of 3's multiples less than 500 41583\n"
          ]
        }
      ]
    },
    {
      "cell_type": "code",
      "source": [
        "-34//5\n",
        "25^34\n"
      ],
      "metadata": {
        "colab": {
          "base_uri": "https://localhost:8080/"
        },
        "id": "lRoUT0MvrlfE",
        "outputId": "e1fff656-7297-4d91-bb96-955f2cdfb45f"
      },
      "execution_count": null,
      "outputs": [
        {
          "output_type": "execute_result",
          "data": {
            "text/plain": [
              "-7"
            ]
          },
          "metadata": {},
          "execution_count": 7
        }
      ]
    },
    {
      "cell_type": "code",
      "source": [
        "count = 5\n",
        "while(count>1):\n",
        "  print(count,end=\" \")\n",
        "  count-=1\n",
        "print()"
      ],
      "metadata": {
        "colab": {
          "base_uri": "https://localhost:8080/"
        },
        "id": "tzpJbtjJrheN",
        "outputId": "70e0b0ba-630b-45c8-8040-d242df8dcecd"
      },
      "execution_count": null,
      "outputs": [
        {
          "output_type": "stream",
          "name": "stdout",
          "text": [
            "5 4 3 2 \n"
          ]
        }
      ]
    },
    {
      "cell_type": "code",
      "source": [
        "n = int(input(\"Enter the number of rows \"))\n",
        "for i in range(0,n):\n",
        "  for k in range(n-i):\n",
        "    print(\" \",end=\"\")\n",
        "  for j in range(1,i+1):\n",
        "    print(j,end=\"\")\n",
        "  print()"
      ],
      "metadata": {
        "colab": {
          "base_uri": "https://localhost:8080/"
        },
        "id": "n2NAfbOKuw_l",
        "outputId": "a01f2c2b-996d-4ef3-a9e4-e8363164c8cc"
      },
      "execution_count": null,
      "outputs": [
        {
          "output_type": "stream",
          "name": "stdout",
          "text": [
            "Enter the number of rows 4\n",
            "    \n",
            "   1\n",
            "  12\n",
            " 123\n"
          ]
        }
      ]
    },
    {
      "cell_type": "code",
      "source": [
        "for i in range(6):\n",
        "  p = 64+i\n",
        "  for j in range(1,i+1):\n",
        "    print(chr(p),end=\" \")\n",
        "    p = p+1\n",
        "  print()\n"
      ],
      "metadata": {
        "colab": {
          "base_uri": "https://localhost:8080/"
        },
        "id": "IHuOARrSy5S8",
        "outputId": "cc6abf90-1b89-4205-d7ef-936290837ee0"
      },
      "execution_count": null,
      "outputs": [
        {
          "output_type": "stream",
          "name": "stdout",
          "text": [
            "\n",
            "A \n",
            "B C \n",
            "C D E \n",
            "D E F G \n",
            "E F G H I \n"
          ]
        }
      ]
    },
    {
      "cell_type": "code",
      "source": [
        "a = 20\n",
        "c= a//10\n",
        "print(c)"
      ],
      "metadata": {
        "colab": {
          "base_uri": "https://localhost:8080/"
        },
        "id": "e5ZG5nlY4YjB",
        "outputId": "596c714f-f642-4090-84c9-604c328e35c9"
      },
      "execution_count": null,
      "outputs": [
        {
          "output_type": "stream",
          "name": "stdout",
          "text": [
            "2\n"
          ]
        }
      ]
    },
    {
      "cell_type": "code",
      "source": [
        "a,b = 450,16\n",
        "while(a!=0):\n",
        "  num = b-a\n",
        "  a = a//10\n",
        "print(num)"
      ],
      "metadata": {
        "colab": {
          "base_uri": "https://localhost:8080/"
        },
        "id": "Bp0CiE5I5tMo",
        "outputId": "e95bde2c-5e5e-4f8c-f16c-fb142a2c849c"
      },
      "execution_count": null,
      "outputs": [
        {
          "output_type": "stream",
          "name": "stdout",
          "text": [
            "12\n"
          ]
        }
      ]
    },
    {
      "cell_type": "code",
      "source": [
        "n = int(input(\"Enter a number\"))\n",
        "sum = 0\n",
        "term = 1\n",
        "for i in range(2,n+1):\n",
        "  term = term*(i+1)\n",
        "  print(term,\"+\",end=\"\")\n",
        "  sum = sum+term\n",
        "  term = term+1\n",
        "print(\"=\",\" \",sum)"
      ],
      "metadata": {
        "id": "ZPWl9gVV7Q3v",
        "colab": {
          "base_uri": "https://localhost:8080/"
        },
        "outputId": "8aa79940-ae5c-4af5-c552-66697877b3c8"
      },
      "execution_count": null,
      "outputs": [
        {
          "output_type": "stream",
          "name": "stdout",
          "text": [
            "Enter a number5\n",
            "3 +16 +85 +516 +=   620\n"
          ]
        }
      ]
    },
    {
      "cell_type": "code",
      "source": [
        "n = int(input(\"Enter the number of days \"))\n",
        "TP = 0.0\n",
        "if(n<=5):\n",
        "  TP = 5*n\n",
        "if(n>5 and n<=15):\n",
        "  TP = TP+(7*(n-5))\n",
        "if(n>15 and n<=35):\n",
        "  TP = TP+(10*(n-15))\n",
        "if(n>55):\n",
        "  TP=TP+(12*(n-35))\n",
        "print(\"Total payable amount\",TP)"
      ],
      "metadata": {
        "colab": {
          "base_uri": "https://localhost:8080/"
        },
        "id": "zZXuExbHt9aw",
        "outputId": "d2b75cbe-e98b-49ff-ccc9-6fb47e1a32e6"
      },
      "execution_count": null,
      "outputs": [
        {
          "output_type": "stream",
          "name": "stdout",
          "text": [
            "Enter the number of days 25\n",
            "Total payable amount 100.0\n"
          ]
        }
      ]
    },
    {
      "cell_type": "code",
      "source": [
        "n = 5\n",
        "for i in range(0,n+1):\n",
        "  for k in range(0,n-i):\n",
        "    print(\"*\",end=\"\")\n",
        "  for j in range(0,):\n"
      ],
      "metadata": {
        "colab": {
          "base_uri": "https://localhost:8080/",
          "height": 130
        },
        "id": "UgxsU2U_WHJh",
        "outputId": "a749f79c-868e-4b2e-c877-8464551b3e8a"
      },
      "execution_count": null,
      "outputs": [
        {
          "output_type": "error",
          "ename": "SyntaxError",
          "evalue": "ignored",
          "traceback": [
            "\u001b[0;36m  File \u001b[0;32m\"<ipython-input-1-b5953a856eaf>\"\u001b[0;36m, line \u001b[0;32m3\u001b[0m\n\u001b[0;31m    for k in range(1,n-i):\u001b[0m\n\u001b[0m                          ^\u001b[0m\n\u001b[0;31mSyntaxError\u001b[0m\u001b[0;31m:\u001b[0m unexpected EOF while parsing\n"
          ]
        }
      ]
    },
    {
      "cell_type": "code",
      "source": [
        "def harmonic_sum(n):\n",
        "  if n<2:\n",
        "    return 1\n",
        "  else:\n",
        "    return 1/n + (harmonic_sum(n-1))\n",
        "\n",
        "\n",
        "print(harmonic_sum(7))\n",
        "print(harmonic_sum(4))"
      ],
      "metadata": {
        "id": "xI-W6C4WWU0l",
        "colab": {
          "base_uri": "https://localhost:8080/"
        },
        "outputId": "fd3f03b3-2616-4e38-ea39-cf77068a172a"
      },
      "execution_count": null,
      "outputs": [
        {
          "output_type": "stream",
          "name": "stdout",
          "text": [
            "2.5928571428571425\n",
            "2.083333333333333\n"
          ]
        }
      ]
    },
    {
      "cell_type": "code",
      "source": [
        "def sum_series(n):\n",
        "  if n<1:\n",
        "    return 0 \n",
        "  else:\n",
        "    return n + sum_series(n-2)\n",
        "\n",
        "print(sum_series(6))\n",
        "print(sum_series(10))\n"
      ],
      "metadata": {
        "colab": {
          "base_uri": "https://localhost:8080/"
        },
        "id": "vGxYx4MCwMbJ",
        "outputId": "225bdc94-597d-46b9-b3ce-fcdcb7896e33"
      },
      "execution_count": null,
      "outputs": [
        {
          "output_type": "stream",
          "name": "stdout",
          "text": [
            "12\n",
            "30\n"
          ]
        }
      ]
    },
    {
      "cell_type": "code",
      "source": [
        "def gcd(a,b):\n",
        "  if(b==0):\n",
        "    return a\n",
        "  else:\n",
        "    return gcd(b,a%b)\n",
        "a = int(input(\"Enter First Number: \"))\n",
        "b = int(input(\"Enter second number : \"))\n",
        "GCD = gcd(a,b)\n",
        "print(\"GCD IS : \")\n",
        "print(GCD)"
      ],
      "metadata": {
        "colab": {
          "base_uri": "https://localhost:8080/"
        },
        "id": "txpOwI2Twpo8",
        "outputId": "1502dd8a-bceb-4dec-8162-f1922fbbc0b0"
      },
      "execution_count": null,
      "outputs": [
        {
          "output_type": "stream",
          "name": "stdout",
          "text": [
            "Enter First Number: 5\n",
            "Enter second number : 15\n",
            "GCD IS : \n",
            "5\n"
          ]
        }
      ]
    },
    {
      "cell_type": "code",
      "source": [
        "def insertionSortRecursive(arr,n):\n",
        " if n<=1:\n",
        "  return\n",
        " insertionSortRecursive(arr,n-1)\n",
        " last = arr[n-1]\n",
        " j = n -2\n",
        " while(j>=0 and arr[j]>last):\n",
        "  arr[j+1]=arr[j]\n",
        "  j = j -1\n",
        "  arr[j+1]=last\n",
        "\n",
        "arr = [1,5,3,4,8,6,3,4,5]\n",
        "n = len(arr)\n",
        "insertionSortRecursive(arr,n)\n",
        "print(\"Sorted Array is: \")\n",
        "for i in range(n):\n",
        "  print(arr[i],end=\" \")\n"
      ],
      "metadata": {
        "colab": {
          "base_uri": "https://localhost:8080/"
        },
        "id": "2vldYhIDxMPi",
        "outputId": "0e0bfa70-e70e-4ae7-d603-dc0345e08aae"
      },
      "execution_count": null,
      "outputs": [
        {
          "output_type": "stream",
          "name": "stdout",
          "text": [
            "Sorted Array is: \n",
            "1 3 3 4 4 5 5 6 8 "
          ]
        }
      ]
    },
    {
      "cell_type": "code",
      "source": [
        "string = input(\"Enter String \")\n",
        "string = string.replace('a','b')\n",
        "string = string.replace(\"A\",\"B\")\n",
        "print(\"Modified String \")\n",
        "print(string)"
      ],
      "metadata": {
        "colab": {
          "base_uri": "https://localhost:8080/"
        },
        "id": "mSm9Slda3nbi",
        "outputId": "c3205277-e394-44c5-eed3-1412018aa372"
      },
      "execution_count": null,
      "outputs": [
        {
          "output_type": "stream",
          "name": "stdout",
          "text": [
            "Enter String Apple\n",
            "Modified String \n",
            "Bpple\n"
          ]
        }
      ]
    },
    {
      "cell_type": "code",
      "source": [
        "def remove(string, n):  \n",
        "      first = string[:n]   \n",
        "      last = string[n+1:]  \n",
        "      return first + last\n",
        "string= input(\"Enter the string:\")\n",
        "n=int(input(\"Enter the index of the character to remove:\"))\n",
        "print(\"Modified string:\")\n",
        "print(remove(string, n))\n"
      ],
      "metadata": {
        "colab": {
          "base_uri": "https://localhost:8080/"
        },
        "id": "bP5htpN74rmN",
        "outputId": "961b8b61-bed8-4a87-cda5-286038f538c4"
      },
      "execution_count": null,
      "outputs": [
        {
          "output_type": "stream",
          "name": "stdout",
          "text": [
            "Enter the string:Hello\n",
            "Enter the index of the character to remove:3\n",
            "Modified string:\n",
            "Helo\n"
          ]
        }
      ]
    },
    {
      "cell_type": "code",
      "source": [
        "s1=input(\"Enter first string:\")\n",
        "s2=input(\"Enter second string:\")\n",
        "if(sorted(s1)==sorted(s2)):\n",
        "      print(\"The strings are anagrams.\")\n",
        "else:\n",
        "      print(\"The strings aren't anagrams.\")\n"
      ],
      "metadata": {
        "colab": {
          "base_uri": "https://localhost:8080/"
        },
        "id": "eN6xZQ0h4447",
        "outputId": "a85a691b-516c-45c0-9d0c-f1d048cd9925"
      },
      "execution_count": null,
      "outputs": [
        {
          "output_type": "stream",
          "name": "stdout",
          "text": [
            "Enter first string:anagram\n",
            "Enter second string:nagaram\n",
            "The strings are anagrams.\n"
          ]
        }
      ]
    },
    {
      "cell_type": "code",
      "source": [
        "def change(string):\n",
        "      return string[-1:] + string[1:-1] + string[:1]\n",
        "string=input(\"Enter string:\")\n",
        "print(\"Modified string:\")\n",
        "print(change(string))"
      ],
      "metadata": {
        "colab": {
          "base_uri": "https://localhost:8080/"
        },
        "id": "Qj7r5j1t5M65",
        "outputId": "c3ccfa76-7dfc-4748-a8a0-875017b1aa08"
      },
      "execution_count": null,
      "outputs": [
        {
          "output_type": "stream",
          "name": "stdout",
          "text": [
            "Enter string:abcd\n",
            "Modified string:\n",
            "dbca\n"
          ]
        }
      ]
    },
    {
      "cell_type": "code",
      "source": [
        "print(\"Hello\")"
      ],
      "metadata": {
        "colab": {
          "base_uri": "https://localhost:8080/"
        },
        "id": "zDANFP6OKfYk",
        "outputId": "1c2bdcca-806e-4093-e3e6-af6a1af1f17e"
      },
      "execution_count": null,
      "outputs": [
        {
          "output_type": "stream",
          "name": "stdout",
          "text": [
            "Hello\n"
          ]
        }
      ]
    },
    {
      "cell_type": "code",
      "source": [
        "num = [[num1,num2,num3,num4,num5] for num1 in range(5) for num2 in range(5)for num3 in range(5)for num4 in range(5)for num5 in range(5)]\n",
        "for i in range (5):\n",
        "  print(num[i],\",\")\n",
        "  print()\n",
        "\n"
      ],
      "metadata": {
        "colab": {
          "base_uri": "https://localhost:8080/"
        },
        "id": "-RgwkKow854k",
        "outputId": "2cfbe6fe-d75b-4d7e-e79a-4c0339bb9622"
      },
      "execution_count": null,
      "outputs": [
        {
          "output_type": "stream",
          "name": "stdout",
          "text": [
            "[0, 0, 0, 0, 0] ,\n",
            "\n",
            "[0, 0, 0, 0, 1] ,\n",
            "\n",
            "[0, 0, 0, 0, 2] ,\n",
            "\n",
            "[0, 0, 0, 0, 3] ,\n",
            "\n",
            "[0, 0, 0, 0, 4] ,\n",
            "\n"
          ]
        }
      ]
    },
    {
      "cell_type": "code",
      "source": [
        "a=eval(input(\"Enter  some of tuple numbers\"))\n",
        "l=len(a)\n",
        "sum=0\n",
        "sub =0\n",
        "multy=1\n",
        "d = 1\n",
        "for x in a:\n",
        "    sum=sum+x\n",
        "for x in a:\n",
        "   sub = sub - x\n",
        "for x in a:\n",
        "   multy=multy*x\n",
        "for x in a:\n",
        "  d = x/d\n",
        "print(\"The sum=\",sum)\n",
        "print(\"The Subtraction=\",sub)\n",
        "print(\"Tne Multiplication=\",multy)\n",
        "print(\"The Divison = \",d)"
      ],
      "metadata": {
        "colab": {
          "base_uri": "https://localhost:8080/"
        },
        "id": "_z4jgaJs-wCP",
        "outputId": "35fe8072-a2f8-403c-a4c2-ddef740b4c71"
      },
      "execution_count": null,
      "outputs": [
        {
          "output_type": "stream",
          "name": "stdout",
          "text": [
            "Enter  some of tuple numbers10,20,30\n",
            "The sum= 60\n",
            "The Subtraction= -60\n",
            "Tne Multiplication= 6000\n",
            "The Divison =  15.0\n"
          ]
        }
      ]
    },
    {
      "cell_type": "code",
      "source": [
        "numbers = {1, 2, 3, 4, 5}\n",
        "scores = {1, 2, 3}\n",
        "\n",
        "result = numbers.issuperset(scores)\n",
        "\n",
        "print(result)"
      ],
      "metadata": {
        "colab": {
          "base_uri": "https://localhost:8080/"
        },
        "id": "GL89WQ38BXrn",
        "outputId": "6b643fef-6f82-4c4e-fb01-223061558305"
      },
      "execution_count": null,
      "outputs": [
        {
          "output_type": "stream",
          "name": "stdout",
          "text": [
            "True\n"
          ]
        }
      ]
    },
    {
      "cell_type": "code",
      "source": [
        "test_tup = (10, 4, 5, 6, 8)\n",
        "\n",
        "print(\"The original tuple : \" + str(test_tup))\n",
        "ele = int(input(\"Enter a element \"))\n",
        " \n",
        "N = 6\n",
        " \n",
        "res = False\n",
        "for i in test_tup:\n",
        "    if i == ele:\n",
        "        res = True\n",
        "        break\n",
        " \n",
        "print(\"Does tuple contain required value ? : \" + str(res))"
      ],
      "metadata": {
        "colab": {
          "base_uri": "https://localhost:8080/"
        },
        "id": "bDbplOw6B7FJ",
        "outputId": "78ad161a-3a3d-4561-c084-2f51ba02dc52"
      },
      "execution_count": null,
      "outputs": [
        {
          "output_type": "stream",
          "name": "stdout",
          "text": [
            "The original tuple : (10, 4, 5, 6, 8)\n",
            "Enter a element 2\n",
            "Does tuple contain required value ? : False\n"
          ]
        }
      ]
    },
    {
      "cell_type": "code",
      "source": [
        "class students:\n",
        "    count = 0\n",
        "    def __init__(self, name):\n",
        "        self.name = name\n",
        "        self.marks = []\n",
        "        students.count = students.count + 1\n",
        "        \n",
        "    def enterMarks(self):\n",
        "        for i in range(3):\n",
        "            m = int(input(\"Enter the marks of %s in %d subject: \"%(self.name, i+1)))\n",
        "            self.marks.append(m)\n",
        "            \n",
        "    def display(self):\n",
        "        print (self.name, \"got \", self.marks)\n",
        "             \n",
        "name = input(\"Enter the name of Student:\")\n",
        "s1 = students(name)\n",
        "s1.enterMarks()\n",
        "s1.display()\n",
        "print (\"\")\n",
        "s2.displayCount()"
      ],
      "metadata": {
        "id": "klroEaYgrTE5"
      },
      "execution_count": null,
      "outputs": []
    }
  ]
}